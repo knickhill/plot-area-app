{
 "cells": [
  {
   "cell_type": "code",
   "execution_count": 1,
   "metadata": {},
   "outputs": [],
   "source": [
    "import googlemaps"
   ]
  },
  {
   "cell_type": "code",
   "execution_count": 2,
   "metadata": {},
   "outputs": [],
   "source": [
    "import gmaps\n",
    "from pyproj import Proj\n",
    "from shapely.geometry import Polygon"
   ]
  },
  {
   "cell_type": "code",
   "execution_count": 3,
   "metadata": {},
   "outputs": [],
   "source": [
    "#get api_key\n",
    "with open(\"api_key.txt\") as f:\n",
    "    api_key = f.read().splitlines()[0]\n",
    "    f.close"
   ]
  },
  {
   "cell_type": "code",
   "execution_count": 4,
   "metadata": {},
   "outputs": [],
   "source": [
    "#configure gmaps library with api_key\n",
    "gmaps.configure(api_key=api_key)\n",
    "mymaps = googlemaps.Client(key=api_key)"
   ]
  },
  {
   "cell_type": "code",
   "execution_count": 5,
   "metadata": {},
   "outputs": [
    {
     "name": "stdout",
     "output_type": "stream",
     "text": [
      "enter address\n",
      "podar school, jamnagar, gujarat, india\n"
     ]
    }
   ],
   "source": [
    "#get center from address\n",
    "print(\"enter address\")\n",
    "address = input()"
   ]
  },
  {
   "cell_type": "code",
   "execution_count": 6,
   "metadata": {},
   "outputs": [],
   "source": [
    "center_dict = mymaps.geocode(address)[0]['geometry']['location']\n",
    "center = center_dict.values()"
   ]
  },
  {
   "cell_type": "code",
   "execution_count": 7,
   "metadata": {},
   "outputs": [],
   "source": [
    "fig = gmaps.figure(zoom_level=14, center = center, layout={'width': '600px', 'height': '400px'})\n",
    "#add drawing layer\n",
    "drawing = gmaps.drawing_layer()\n",
    "fig.add_layer(drawing)\n"
   ]
  },
  {
   "cell_type": "code",
   "execution_count": 21,
   "metadata": {},
   "outputs": [
    {
     "name": "stdout",
     "output_type": "stream",
     "text": [
      "Select corners of the polygon\n"
     ]
    },
    {
     "data": {
      "application/vnd.jupyter.widget-view+json": {
       "model_id": "d966c202a954465aa27d8f7190816a68",
       "version_major": 2,
       "version_minor": 0
      },
      "text/plain": [
       "Figure(layout=FigureLayout(height='400px', width='600px'))"
      ]
     },
     "metadata": {},
     "output_type": "display_data"
    }
   ],
   "source": [
    "print(\"Select corners of the polygon\")\n",
    "fig"
   ]
  },
  {
   "cell_type": "code",
   "execution_count": 22,
   "metadata": {},
   "outputs": [
    {
     "data": {
      "text/plain": [
       "[(22.44760202599825, 70.02370559246174),\n",
       " (22.447630745571605, 70.0236977895886),\n",
       " (22.4476402860837, 70.02385385840739),\n",
       " (22.44760031260632, 70.02385587006415)]"
      ]
     },
     "execution_count": 22,
     "metadata": {},
     "output_type": "execute_result"
    }
   ],
   "source": [
    "point_list = []\n",
    "for point in drawing.features:\n",
    "    point_list.append(point.location)\n",
    "    \n",
    "point_list\n",
    "\n",
    "#marker is in lat,long format"
   ]
  },
  {
   "cell_type": "code",
   "execution_count": 23,
   "metadata": {},
   "outputs": [
    {
     "data": {
      "text/plain": [
       "[(70.02370559246174, 22.44760202599825),\n",
       " (70.0236977895886, 22.447630745571605),\n",
       " (70.02385385840739, 22.4476402860837),\n",
       " (70.02385587006415, 22.44760031260632)]"
      ]
     },
     "execution_count": 23,
     "metadata": {},
     "output_type": "execute_result"
    }
   ],
   "source": [
    "# switch points to (long,lat) form\n",
    "lnglat_point_list  = []\n",
    "\n",
    "for point in point_list:\n",
    "    lnglat_point_list.append(tuple(reversed(point)))\n",
    "    \n",
    "lnglat_point_list"
   ]
  },
  {
   "cell_type": "markdown",
   "metadata": {},
   "source": [
    "##### Using a UTM projection\n",
    "###### Universal Transverse Mercator \n",
    "Area is distorted, but distortions are minimal as long as the area is within a single UTM zone\n"
   ]
  },
  {
   "cell_type": "code",
   "execution_count": 24,
   "metadata": {},
   "outputs": [],
   "source": [
    "#Need to find UTM zone\n",
    "def get_utm_zone(geotuple):\n",
    "    '''\n",
    "    get utm zone based on geographic coordinates\n",
    "    Input geo coords - tuple (longitude, latitute)\n",
    "    output utm zone\n",
    "    '''\n",
    "    long = round(geotuple[0])\n",
    "    zone = ((180+long)//6)+1\n",
    "    utm_zone = str(zone)\n",
    "    \n",
    "    lat = geotuple[1]\n",
    "    \n",
    "    if lat<0:\n",
    "        utm_zone += \" +south\"\n",
    "    \n",
    "    return utm_zone"
   ]
  },
  {
   "cell_type": "code",
   "execution_count": 25,
   "metadata": {},
   "outputs": [
    {
     "data": {
      "text/plain": [
       "'42'"
      ]
     },
     "execution_count": 25,
     "metadata": {},
     "output_type": "execute_result"
    }
   ],
   "source": [
    "utm_zone = get_utm_zone(lnglat_point_list[0])\n",
    "utm_zone"
   ]
  },
  {
   "cell_type": "code",
   "execution_count": 26,
   "metadata": {},
   "outputs": [
    {
     "data": {
      "text/plain": [
       "'+proj=utm +zone=42'"
      ]
     },
     "execution_count": 26,
     "metadata": {},
     "output_type": "execute_result"
    }
   ],
   "source": [
    "#Project geocords to 2d plane using UTM projection\n",
    "proj_string = \"+proj=utm +zone=\"+utm_zone\n",
    "proj_string"
   ]
  },
  {
   "cell_type": "code",
   "execution_count": 27,
   "metadata": {},
   "outputs": [],
   "source": [
    "p = Proj(proj_string)"
   ]
  },
  {
   "cell_type": "code",
   "execution_count": 28,
   "metadata": {},
   "outputs": [],
   "source": [
    "#split lnglat_point_list into two separate lists of lat and lng\n",
    "lng_list,lat_list = zip(*lnglat_point_list)\n",
    "    "
   ]
  },
  {
   "cell_type": "code",
   "execution_count": 29,
   "metadata": {},
   "outputs": [],
   "source": [
    "x,y=p(list(lng_list),list(lat_list))"
   ]
  },
  {
   "cell_type": "code",
   "execution_count": 30,
   "metadata": {},
   "outputs": [
    {
     "data": {
      "text/plain": [
       "[(605336.9433912389, 2482730.932681984),\n",
       " (605336.1187396434, 2482734.1065942855),\n",
       " (605352.1718694941, 2482735.2723618024),\n",
       " (605352.4090781836, 2482730.8485236447)]"
      ]
     },
     "execution_count": 30,
     "metadata": {},
     "output_type": "execute_result"
    }
   ],
   "source": [
    "xy_list = list(zip(x,y))\n",
    "xy_list"
   ]
  },
  {
   "cell_type": "markdown",
   "metadata": {},
   "source": [
    "### calc area using shapely"
   ]
  },
  {
   "cell_type": "code",
   "execution_count": 31,
   "metadata": {},
   "outputs": [],
   "source": [
    "#cast coordinates as polygon\n",
    "from shapely.geometry import Polygon\n",
    "polygon = Polygon(xy_list)"
   ]
  },
  {
   "cell_type": "code",
   "execution_count": 32,
   "metadata": {},
   "outputs": [
    {
     "name": "stdout",
     "output_type": "stream",
     "text": [
      "Area is 60.15515565374343 square-m or 0.01486463973781827 acres\n"
     ]
    }
   ],
   "source": [
    "#area of polygon\n",
    "m2_area = polygon.area #Area in meter-square\n",
    "acreage = m2_area*0.000247105\n",
    "sqft =  m2_area*10.7639\n",
    "\n",
    "\n",
    "print(\"Area is {} square-m or {} acres or {} square-ft\".format(m2_area,acreage))"
   ]
  }
 ],
 "metadata": {
  "kernelspec": {
   "display_name": "Python 3",
   "language": "python",
   "name": "python3"
  },
  "language_info": {
   "codemirror_mode": {
    "name": "ipython",
    "version": 3
   },
   "file_extension": ".py",
   "mimetype": "text/x-python",
   "name": "python",
   "nbconvert_exporter": "python",
   "pygments_lexer": "ipython3",
   "version": "3.6.7"
  }
 },
 "nbformat": 4,
 "nbformat_minor": 2
}
