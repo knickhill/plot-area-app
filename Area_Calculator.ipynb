{
 "cells": [
  {
   "cell_type": "code",
   "execution_count": 6,
   "metadata": {},
   "outputs": [],
   "source": [
    "import googlemaps"
   ]
  },
  {
   "cell_type": "code",
   "execution_count": 7,
   "metadata": {},
   "outputs": [],
   "source": [
    "import gmaps\n",
    "from pyproj import Proj\n",
    "from shapely.geometry import Polygon"
   ]
  },
  {
   "cell_type": "code",
   "execution_count": 8,
   "metadata": {},
   "outputs": [],
   "source": [
    "#get api_key\n",
    "with open(\"api_key.txt\") as f:\n",
    "    api_key = f.read().splitlines()[0]\n",
    "    f.close"
   ]
  },
  {
   "cell_type": "code",
   "execution_count": 9,
   "metadata": {},
   "outputs": [],
   "source": [
    "#configure gmaps library with api_key\n",
    "gmaps.configure(api_key=api_key)\n",
    "mymaps = googlemaps.Client(key=api_key)"
   ]
  },
  {
   "cell_type": "code",
   "execution_count": 10,
   "metadata": {},
   "outputs": [
    {
     "name": "stdout",
     "output_type": "stream",
     "text": [
      "enter address\n",
      "world trade center, new york\n"
     ]
    }
   ],
   "source": [
    "#get center from address\n",
    "print(\"enter address\")\n",
    "address = input()"
   ]
  },
  {
   "cell_type": "markdown",
   "metadata": {},
   "source": [
    "### Run everything above"
   ]
  },
  {
   "cell_type": "code",
   "execution_count": 11,
   "metadata": {},
   "outputs": [],
   "source": [
    "center_dict = mymaps.geocode(address)[0]['geometry']['location']\n",
    "center = center_dict.values()"
   ]
  },
  {
   "cell_type": "code",
   "execution_count": 12,
   "metadata": {},
   "outputs": [],
   "source": [
    "fig = gmaps.figure(zoom_level=20, center = center, layout={'width': '600px', 'height': '400px'})\n",
    "#add drawing layer\n",
    "drawing = gmaps.drawing_layer()\n",
    "fig.add_layer(drawing)\n"
   ]
  },
  {
   "cell_type": "code",
   "execution_count": 48,
   "metadata": {},
   "outputs": [
    {
     "name": "stdout",
     "output_type": "stream",
     "text": [
      "Select corners of the polygon\n"
     ]
    },
    {
     "data": {
      "application/vnd.jupyter.widget-view+json": {
       "model_id": "ed0feb62bcd74a56ba91b9d74e51d4d0",
       "version_major": 2,
       "version_minor": 0
      },
      "text/plain": [
       "Figure(layout=FigureLayout(height='400px', width='600px'))"
      ]
     },
     "metadata": {},
     "output_type": "display_data"
    }
   ],
   "source": [
    "print(\"Select corners of the polygon\")\n",
    "fig"
   ]
  },
  {
   "cell_type": "markdown",
   "metadata": {},
   "source": [
    "### Run everything above"
   ]
  },
  {
   "cell_type": "code",
   "execution_count": 49,
   "metadata": {},
   "outputs": [
    {
     "data": {
      "text/plain": [
       "[(40.71134722822828, -74.0132047489455),\n",
       " (40.7111296831432, -74.01268708260562),\n",
       " (40.710733220646155, -74.01296603234317),\n",
       " (40.71095076702654, -74.01349979193714),\n",
       " (40.712052383366945, -74.01363403357288),\n",
       " (40.711800277648486, -74.0130600408437),\n",
       " (40.712245528231264, -74.0127354935529),\n",
       " (40.71249495695026, -74.01330860391352)]"
      ]
     },
     "execution_count": 49,
     "metadata": {},
     "output_type": "execute_result"
    }
   ],
   "source": [
    "point_list = []\n",
    "for point in drawing.features:\n",
    "    point_list.append(point.location)\n",
    "    \n",
    "point_list\n",
    "\n",
    "#marker is in lat,long format"
   ]
  },
  {
   "cell_type": "code",
   "execution_count": 50,
   "metadata": {},
   "outputs": [
    {
     "data": {
      "text/plain": [
       "[(-74.0132047489455, 40.71134722822828),\n",
       " (-74.01268708260562, 40.7111296831432),\n",
       " (-74.01296603234317, 40.710733220646155),\n",
       " (-74.01349979193714, 40.71095076702654),\n",
       " (-74.01363403357288, 40.712052383366945),\n",
       " (-74.0130600408437, 40.711800277648486),\n",
       " (-74.0127354935529, 40.712245528231264),\n",
       " (-74.01330860391352, 40.71249495695026)]"
      ]
     },
     "execution_count": 50,
     "metadata": {},
     "output_type": "execute_result"
    }
   ],
   "source": [
    "# switch points to (long,lat) form\n",
    "lnglat_point_list  = []\n",
    "\n",
    "for point in point_list:\n",
    "    lnglat_point_list.append(tuple(reversed(point)))\n",
    "    \n",
    "lnglat_point_list"
   ]
  },
  {
   "cell_type": "markdown",
   "metadata": {},
   "source": [
    "##### Using a UTM projection\n",
    "###### Universal Transverse Mercator \n",
    "Area is distorted, but distortions are minimal as long as the area is within a single UTM zone\n"
   ]
  },
  {
   "cell_type": "code",
   "execution_count": 51,
   "metadata": {},
   "outputs": [],
   "source": [
    "#Need to find UTM zone\n",
    "def get_utm_zone(geotuple):\n",
    "    '''\n",
    "    get utm zone based on geographic coordinates\n",
    "    Input geo coords - tuple (longitude, latitute)\n",
    "    output utm zone\n",
    "    '''\n",
    "    long = round(geotuple[0])\n",
    "    zone = ((180+long)//6)+1\n",
    "    utm_zone = str(zone)\n",
    "    \n",
    "    lat = geotuple[1]\n",
    "    \n",
    "    if lat<0:\n",
    "        utm_zone += \" +south\"\n",
    "    \n",
    "    return utm_zone"
   ]
  },
  {
   "cell_type": "code",
   "execution_count": 52,
   "metadata": {},
   "outputs": [
    {
     "data": {
      "text/plain": [
       "'18'"
      ]
     },
     "execution_count": 52,
     "metadata": {},
     "output_type": "execute_result"
    }
   ],
   "source": [
    "utm_zone = get_utm_zone(lnglat_point_list[0])\n",
    "utm_zone"
   ]
  },
  {
   "cell_type": "code",
   "execution_count": 53,
   "metadata": {},
   "outputs": [
    {
     "data": {
      "text/plain": [
       "'+proj=utm +zone=18'"
      ]
     },
     "execution_count": 53,
     "metadata": {},
     "output_type": "execute_result"
    }
   ],
   "source": [
    "#Project geocords to 2d plane using UTM projection\n",
    "proj_string = \"+proj=utm +zone=\"+utm_zone\n",
    "proj_string"
   ]
  },
  {
   "cell_type": "code",
   "execution_count": 54,
   "metadata": {},
   "outputs": [],
   "source": [
    "p = Proj(proj_string)"
   ]
  },
  {
   "cell_type": "code",
   "execution_count": 55,
   "metadata": {},
   "outputs": [],
   "source": [
    "#split lnglat_point_list into two separate lists of lat and lng\n",
    "lng_list,lat_list = zip(*lnglat_point_list)\n",
    "    "
   ]
  },
  {
   "cell_type": "code",
   "execution_count": 56,
   "metadata": {},
   "outputs": [],
   "source": [
    "x,y=p(list(lng_list),list(lat_list))"
   ]
  },
  {
   "cell_type": "code",
   "execution_count": 57,
   "metadata": {},
   "outputs": [
    {
     "data": {
      "text/plain": [
       "[(583352.6174560806, 4507182.869033737),\n",
       " (583396.6157960166, 4507159.21152254),\n",
       " (583373.5475934539, 4507114.936828562),\n",
       " (583328.1896786235, 4507138.579353779),\n",
       " (583315.4770638918, 4507260.7384771425),\n",
       " (583364.2757491431, 4507233.297759017),\n",
       " (583391.1342796274, 4507283.03151907),\n",
       " (583342.4136804501, 4507310.175732358)]"
      ]
     },
     "execution_count": 57,
     "metadata": {},
     "output_type": "execute_result"
    }
   ],
   "source": [
    "xy_list = list(zip(x,y))\n",
    "xy_list"
   ]
  },
  {
   "cell_type": "markdown",
   "metadata": {},
   "source": [
    "### calc area using shapely"
   ]
  },
  {
   "cell_type": "code",
   "execution_count": 58,
   "metadata": {},
   "outputs": [],
   "source": [
    "#cast coordinates as polygon\n",
    "from shapely.geometry import Polygon\n",
    "polygon = Polygon(xy_list)"
   ]
  },
  {
   "cell_type": "code",
   "execution_count": 59,
   "metadata": {},
   "outputs": [
    {
     "name": "stdout",
     "output_type": "stream",
     "text": [
      "Area is 3128.598824017922 square-m or 0.7730924124089487 acres or 33675.92488184651 square-ft\n"
     ]
    }
   ],
   "source": [
    "#area of polygon\n",
    "m2_area = polygon.area #Area in meter-square\n",
    "acreage = m2_area*0.000247105\n",
    "sqft =  m2_area*10.7639\n",
    "\n",
    "\n",
    "print(\"Area is {} square-m or {} acres or {} square-ft\".format(m2_area,acreage,sqft))"
   ]
  }
 ],
 "metadata": {
  "kernelspec": {
   "display_name": "Python 3",
   "language": "python",
   "name": "python3"
  },
  "language_info": {
   "codemirror_mode": {
    "name": "ipython",
    "version": 3
   },
   "file_extension": ".py",
   "mimetype": "text/x-python",
   "name": "python",
   "nbconvert_exporter": "python",
   "pygments_lexer": "ipython3",
   "version": "3.6.8"
  }
 },
 "nbformat": 4,
 "nbformat_minor": 2
}
